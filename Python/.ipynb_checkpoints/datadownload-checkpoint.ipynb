{
 "cells": [
  {
   "cell_type": "code",
   "execution_count": 2,
   "metadata": {},
   "outputs": [],
   "source": [
    "import numpy as np\n",
    "import requests\n",
    "def download_file(url):\n",
    "    local_filename = url.split('/')[-1]\n",
    "    # NOTE the stream=True parameter below\n",
    "    with requests.get(url, stream=True) as r:\n",
    "        r.raise_for_status()\n",
    "        with open(local_filename, 'wb') as f:\n",
    "            for chunk in r.iter_content(chunk_size=8192): \n",
    "                # If you have chunk encoded response uncomment if\n",
    "                # and set chunk_size parameter to None.\n",
    "                #if chunk: \n",
    "                f.write(chunk)\n",
    "    return local_filename"
   ]
  },
  {
   "cell_type": "code",
   "execution_count": 30,
   "metadata": {},
   "outputs": [],
   "source": [
    "#Download licitaciones\n",
    "year_range=np.arange(2010,2021,1)\n",
    "month_range=np.arange(1,13,1)\n",
    "yearmonths=[str(y)+'-'+str(m) for y in year_range for m in month_range]\n",
    "for i in yearmonths:\n",
    "    string_download='https://transparenciachc.blob.core.windows.net/lic-da/'+str(i)+'.zip'\n",
    "    download_file(string_download)\n"
   ]
  },
  {
   "cell_type": "code",
   "execution_count": 6,
   "metadata": {},
   "outputs": [],
   "source": [
    "\n",
    "#Download buy orders\n",
    "year_range=np.arange(2013,2014,1)\n",
    "month_range=np.arange(8,13,1)\n",
    "yearmonths=[str(y)+'-'+str(m) for y in year_range for m in month_range]\n",
    "for i in yearmonths:\n",
    "    string_download='https://transparenciachc.blob.core.windows.net/oc-da/'+str(i)+'.zip'\n",
    "    download_file(string_download)\n"
   ]
  },
  {
   "cell_type": "code",
   "execution_count": null,
   "metadata": {},
   "outputs": [],
   "source": []
  }
 ],
 "metadata": {
  "kernelspec": {
   "display_name": "Python 3",
   "language": "python",
   "name": "python3"
  },
  "language_info": {
   "codemirror_mode": {
    "name": "ipython",
    "version": 3
   },
   "file_extension": ".py",
   "mimetype": "text/x-python",
   "name": "python",
   "nbconvert_exporter": "python",
   "pygments_lexer": "ipython3",
   "version": "3.7.3"
  }
 },
 "nbformat": 4,
 "nbformat_minor": 2
}
